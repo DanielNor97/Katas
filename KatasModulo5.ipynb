{
 "cells": [
  {
   "cell_type": "code",
   "execution_count": null,
   "metadata": {},
   "outputs": [],
   "source": []
  },
  {
   "cell_type": "markdown",
   "metadata": {},
   "source": [
    "# Katas modulo 5\n",
    "Operadores aritmeticos en python"
   ]
  },
  {
   "cell_type": "code",
   "execution_count": 4,
   "metadata": {},
   "outputs": [
    {
     "name": "stdout",
     "output_type": "stream",
     "text": [
      "la distancia de jupiter a la tierra son:  390577533.93  Millas\n"
     ]
    }
   ],
   "source": [
    "Tierra = 149597870 #km\n",
    "Jupiter = 778547200 #km\n",
    "Distancia2 = Jupiter - Tierra\n",
    "millas2 = Distancia2 * 0.621\n",
    "print(\"la distancia de jupiter a la tierra son: \", + millas2, \" Millas\")\n",
    "\n"
   ]
  },
  {
   "cell_type": "markdown",
   "metadata": {},
   "source": [
    "# Covierte cadenas en numeros y usa valores absolutos"
   ]
  },
  {
   "cell_type": "code",
   "execution_count": 7,
   "metadata": {},
   "outputs": [
    {
     "name": "stdout",
     "output_type": "stream",
     "text": [
      "Kilometros:  1257898660\n",
      "Millas:  781155067.86\n"
     ]
    }
   ],
   "source": [
    "distancia = input(\"Introducir la Distancia del sol a la tierra: \")\n",
    "distancia = int(distancia)\n",
    "distancia2 = input(\"Introducir la distancia del sol a Jupiter: \")\n",
    "distancia2 = int(distancia2)\n",
    "\n",
    "Distancia_alsol = Distancia2 - Distancia\n",
    "\n",
    "print(\"Kilometros: \", + Distancia_alsol)\n",
    "millas = Distancia_alsol * 0.621\n",
    "print(\"Millas: \", + abs(millas))\n"
   ]
  }
 ],
 "metadata": {
  "interpreter": {
   "hash": "7b45744d65fb1c95f242c8e16b3de0233bb746adf59f9f8b34aa6638acc49c49"
  },
  "kernelspec": {
   "display_name": "Python 3.10.2 64-bit (windows store)",
   "language": "python",
   "name": "python3"
  },
  "language_info": {
   "codemirror_mode": {
    "name": "ipython",
    "version": 3
   },
   "file_extension": ".py",
   "mimetype": "text/x-python",
   "name": "python",
   "nbconvert_exporter": "python",
   "pygments_lexer": "ipython3",
   "version": "3.10.2"
  },
  "orig_nbformat": 4
 },
 "nbformat": 4,
 "nbformat_minor": 2
}
